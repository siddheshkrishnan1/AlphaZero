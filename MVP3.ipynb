{
 "cells": [
  {
   "cell_type": "code",
   "execution_count": 1,
   "metadata": {},
   "outputs": [],
   "source": [
    "import time\n",
    "import sqlite3"
   ]
  },
  {
   "cell_type": "code",
   "execution_count": 2,
   "metadata": {},
   "outputs": [],
   "source": [
    "con=None"
   ]
  },
  {
   "cell_type": "code",
   "execution_count": 3,
   "metadata": {},
   "outputs": [],
   "source": [
    "def getConnection():\n",
    "    databaseFile=\"furniture1.db\"\n",
    "    global con\n",
    "    if con== None:\n",
    "        con=sqlite3.connect(databaseFile)\n",
    "    return con"
   ]
  },
  {
   "cell_type": "code",
   "execution_count": 4,
   "metadata": {},
   "outputs": [
    {
     "name": "stdout",
     "output_type": "stream",
     "text": [
      "<sqlite3.Connection object at 0x000002245C3EAAB0>\n"
     ]
    }
   ],
   "source": [
    "print(getConnection())"
   ]
  },
  {
   "cell_type": "code",
   "execution_count": 5,
   "metadata": {},
   "outputs": [
    {
     "name": "stdout",
     "output_type": "stream",
     "text": [
      "Please enter your name m\n",
      "\n"
     ]
    }
   ],
   "source": [
    "questionNumber=0\n",
    "name=str(input(\"Please enter your name \"))\n",
    "print()"
   ]
  },
  {
   "cell_type": "code",
   "execution_count": 6,
   "metadata": {},
   "outputs": [],
   "source": [
    "def createTable(con):\n",
    "    c=con.cursor()\n",
    "        \n",
    "    c.execute(\"\"\"CREATE TABLE \"Response1\" (\n",
    "\t\"rooms\"\tINTEGER,\n",
    "\t\"size\"\tINTEGER,\n",
    "\t\"packed\"\tINTEGER,\n",
    "\t\"accessible\"\tTEXT\n",
    ");\"\"\")\n",
    "    con.commit()\n",
    "    return True\n",
    "    "
   ]
  },
  {
   "cell_type": "code",
   "execution_count": 7,
   "metadata": {},
   "outputs": [],
   "source": [
    "class q:\n",
    "    def __init__(self,rooms,size,packed,accessible):\n",
    "        self.rooms=rooms\n",
    "        self.size=size\n",
    "        self.packed=packed\n",
    "        self.accessible=accessible\n",
    "    \n",
    "    def questions(self):\n",
    "        \n",
    "        def questionOne():\n",
    "            global questionNumber\n",
    "            print(\"How many rooms in your residence are you planning on storing?\")\n",
    "            self.rooms=int(input())\n",
    "        \n",
    "            questionNumber=questionNumber+1\n",
    "\n",
    "        questionOne()\n",
    "        time.sleep(2)\n",
    "\n",
    "\n",
    "        def questionTwo():\n",
    "            global  questionNumber\n",
    "            print(\"What is the size of your current residence (sq ft)?\")\n",
    "            self.size=int(input())\n",
    "\n",
    "            questionNumber=questionNumber+1\n",
    "        questionTwo()\n",
    "        time.sleep(2)\n",
    "\n",
    "\n",
    "        def questionThree():\n",
    "            global  questionNumber\n",
    "            print(\"How packed is your residence 1 (lean), 10(hoarded)\")\n",
    "            \n",
    "            self.packed=int(input())\n",
    "        \n",
    "            \n",
    "\n",
    "            questionNumber=questionNumber+1\n",
    "        questionThree()\n",
    "\n",
    "        time.sleep(2)\n",
    "\n",
    "\n",
    "        def questionFour():\n",
    "            global questionNumber\n",
    "            print(\"Will you be accessing your storage unit often?\")\n",
    "            print(\"yes \\n\"+\n",
    "                    \"no \\n\")\n",
    "            self.accessible = str(input())\n",
    "            questionNumber=questionNumber+1\n",
    "        questionFour()\n",
    "        "
   ]
  },
  {
   "cell_type": "code",
   "execution_count": 8,
   "metadata": {},
   "outputs": [],
   "source": [
    "def insertVariableIntoTable(r1):\n",
    "            try:\n",
    "                sqliteConnection=sqlite3.connect('furniture1.db')\n",
    "                cursor=sqliteConnection.cursor()\n",
    "                print(\"Connected to sqlite\")\n",
    "\n",
    "                sqlite_insert_with_param=\"\"\"INSERT INTO Response(rooms,size,packed,accessible)\n",
    "                VALUES ( ?, ?, ?, ?);\"\"\"\n",
    "\n",
    "                data_tuple=(r1.rooms,r1.size,r1.packed,r1.accessible)\n",
    "                cursor.execute(sqlite_insert_with_param,data_tuple)\n",
    "                sqliteConnection.commit()\n",
    "                print('Furniture data inserted into table')\n",
    "\n",
    "                cursor.close()\n",
    "\n",
    "            except sqlite3.Error as error:\n",
    "                print(\"Failed to insert data into sqlite table \",error)\n",
    "\n",
    "            finally:\n",
    "                if(sqliteConnection):\n",
    "                    sqliteConnection.close()\n",
    "                    print(\"The SQLite connection is closed\")"
   ]
  },
  {
   "cell_type": "code",
   "execution_count": null,
   "metadata": {},
   "outputs": [
    {
     "name": "stdout",
     "output_type": "stream",
     "text": [
      "How many rooms in your residence are you planning on storing?\n",
      "5\n",
      "What is the size of your current residence (sq ft)?\n",
      "2000\n",
      "How packed is your residence 1 (lean), 10(hoarded)\n",
      "9\n",
      "Will you be accessing your storage unit often?\n",
      "yes \n",
      "no \n",
      "\n",
      "no\n",
      "Connected to sqlite\n",
      "Furniture data inserted into table\n",
      "The SQLite connection is closed\n",
      "How many rooms in your residence are you planning on storing?\n"
     ]
    }
   ],
   "source": [
    "while(True):\n",
    "    p1=q(0,0,0,0)\n",
    "    p1.questions()\n",
    "    insertVariableIntoTable(p1)"
   ]
  },
  {
   "cell_type": "code",
   "execution_count": null,
   "metadata": {},
   "outputs": [],
   "source": []
  }
 ],
 "metadata": {
  "kernelspec": {
   "display_name": "Python 3",
   "language": "python",
   "name": "python3"
  },
  "language_info": {
   "codemirror_mode": {
    "name": "ipython",
    "version": 3
   },
   "file_extension": ".py",
   "mimetype": "text/x-python",
   "name": "python",
   "nbconvert_exporter": "python",
   "pygments_lexer": "ipython3",
   "version": "3.7.6"
  }
 },
 "nbformat": 4,
 "nbformat_minor": 4
}
