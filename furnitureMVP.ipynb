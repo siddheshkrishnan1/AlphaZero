{
 "cells": [
  {
   "cell_type": "code",
   "execution_count": 1,
   "metadata": {},
   "outputs": [],
   "source": [
    "import time\n",
    "import sqlite3"
   ]
  },
  {
   "cell_type": "code",
   "execution_count": 2,
   "metadata": {},
   "outputs": [],
   "source": [
    "con=None"
   ]
  },
  {
   "cell_type": "code",
   "execution_count": 3,
   "metadata": {},
   "outputs": [],
   "source": [
    "def getConnection():\n",
    "    databaseFile=\"furniture.db\"\n",
    "    global con\n",
    "    if con== None:\n",
    "        con=sqlite3.connect(databaseFile)\n",
    "    return con"
   ]
  },
  {
   "cell_type": "code",
   "execution_count": 4,
   "metadata": {},
   "outputs": [
    {
     "name": "stdout",
     "output_type": "stream",
     "text": [
      "<sqlite3.Connection object at 0x00000210DED2B9D0>\n"
     ]
    }
   ],
   "source": [
    "print(getConnection())\n"
   ]
  },
  {
   "cell_type": "code",
   "execution_count": 5,
   "metadata": {},
   "outputs": [],
   "source": [
    "def createTable(con):\n",
    "    c=con.cursor()\n",
    "        \n",
    "    c.execute(\"\"\"CREATE TABLE IF NOT EXISTS \"Response\"(\n",
    "    \"rooms\" INTEGER,\n",
    "    \"size\" INTEGER,\n",
    "    \"packed\" INTEGER,\n",
    "    \"accessible\" TEXT)\"\"\")\n",
    "    con.commit()\n",
    "    return True\n",
    "    \n",
    "        "
   ]
  },
  {
   "cell_type": "code",
   "execution_count": 6,
   "metadata": {},
   "outputs": [
    {
     "data": {
      "text/plain": [
       "True"
      ]
     },
     "execution_count": 6,
     "metadata": {},
     "output_type": "execute_result"
    }
   ],
   "source": [
    "createTable(con)"
   ]
  },
  {
   "cell_type": "code",
   "execution_count": 7,
   "metadata": {},
   "outputs": [
    {
     "name": "stdout",
     "output_type": "stream",
     "text": [
      "True\n"
     ]
    }
   ],
   "source": [
    "print(createTable(con))"
   ]
  },
  {
   "cell_type": "code",
   "execution_count": 8,
   "metadata": {},
   "outputs": [],
   "source": [
    "def insertVariableIntoTable(rooms,size,packed,accessible):\n",
    "    try:\n",
    "        sqliteConnection=sqlite3.connect('furniture.db')\n",
    "        cursor=sqliteConnection.cursor()\n",
    "        print(\"Connected to sqlite\")\n",
    "        \n",
    "        sqlite_insert_with_param=\"\"\"INSERT INTO Response(rooms,size,packed,accessible)\n",
    "        VALUES ( ?, ?, ?, ?);\"\"\"\n",
    "        \n",
    "        data_tuple=(rooms,size,packed,accessible)\n",
    "        cursor.execute(sqlite_insert_with_param,data_tuple)\n",
    "        sqliteConnection.commit()\n",
    "        print('Furniture data inserted into table')\n",
    "        \n",
    "        cursor.close()\n",
    "    \n",
    "    except sqlite3.Error as error:\n",
    "        print(\"Failed to insert data into sqlite table \",error)\n",
    "    \n",
    "    finally:\n",
    "        if(sqliteConnection):\n",
    "            sqliteConnection.close()\n",
    "            print(\"The SQLite connection is closed\")"
   ]
  },
  {
   "cell_type": "code",
   "execution_count": 9,
   "metadata": {},
   "outputs": [
    {
     "name": "stdout",
     "output_type": "stream",
     "text": [
      "Please enter your name M\n",
      "\n"
     ]
    }
   ],
   "source": [
    "questionNumber=0\n",
    "name=str(input(\"Please enter your name \"))\n",
    "print()"
   ]
  },
  {
   "cell_type": "code",
   "execution_count": 10,
   "metadata": {},
   "outputs": [],
   "source": [
    "class q:\n",
    "    def __init__(self,rooms,size,packed,accessible):\n",
    "        self.rooms=rooms\n",
    "        self.size=size\n",
    "        self.packed=packed\n",
    "        self.accessible=accessible\n",
    "    \n",
    "    def questions():\n",
    "        \n",
    "        def questionOne():\n",
    "            global questionNumber\n",
    "            print(\"How many rooms in your residence are you planning on storing?\")\n",
    "            rooms=int(input())\n",
    "            questionNumber=questionNumber+1\n",
    "\n",
    "        questionOne()\n",
    "        time.sleep(2)\n",
    "\n",
    "\n",
    "        def questionTwo():\n",
    "            global  questionNumber\n",
    "            print(\"What is the size of your current residence (sq ft)?\")\n",
    "            size=int(input())\n",
    "\n",
    "            questionNumber=questionNumber+1\n",
    "        questionTwo()\n",
    "        time.sleep(2)\n",
    "\n",
    "\n",
    "        def questionThree():\n",
    "            global  questionNumber\n",
    "            print(\"How packed is your residence 1 (lean), 10(hoarded)\")\n",
    "            \n",
    "            packed=int(input())\n",
    "\n",
    "            questionNumber=questionNumber+1\n",
    "        questionThree()\n",
    "\n",
    "        time.sleep(2)\n",
    "\n",
    "\n",
    "        def questionFour():\n",
    "            global questionNumber\n",
    "            print(\"Will you be accessing your storage unit often?\")\n",
    "            print(\"yes \\n\"+\n",
    "                    \"no \\n\")\n",
    "            accesible=str(input())\n",
    "\n",
    "            questionNumber=questionNumber+1\n",
    "        questionFour()\n",
    "        \n",
    "    \n",
    "    "
   ]
  },
  {
   "cell_type": "code",
   "execution_count": 11,
   "metadata": {},
   "outputs": [
    {
     "name": "stdout",
     "output_type": "stream",
     "text": [
      "How many rooms in your residence are you planning on storing?\n",
      "7\n",
      "What is the size of your current residence (sq ft)?\n",
      "4000\n",
      "How packed is your residence 1 (lean), 10(hoarded)\n",
      "9\n",
      "Will you be accessing your storage unit often?\n",
      "yes \n",
      "no \n",
      "\n",
      "no\n"
     ]
    },
    {
     "ename": "NameError",
     "evalue": "name 'rooms' is not defined",
     "output_type": "error",
     "traceback": [
      "\u001b[1;31m---------------------------------------------------------------------------\u001b[0m",
      "\u001b[1;31mNameError\u001b[0m                                 Traceback (most recent call last)",
      "\u001b[1;32m<ipython-input-11-c670d0cc26ec>\u001b[0m in \u001b[0;36m<module>\u001b[1;34m\u001b[0m\n\u001b[0;32m      1\u001b[0m \u001b[1;32mwhile\u001b[0m\u001b[1;33m(\u001b[0m\u001b[1;32mTrue\u001b[0m\u001b[1;33m)\u001b[0m\u001b[1;33m:\u001b[0m\u001b[1;33m\u001b[0m\u001b[1;33m\u001b[0m\u001b[0m\n\u001b[0;32m      2\u001b[0m     \u001b[0mq\u001b[0m\u001b[1;33m.\u001b[0m\u001b[0mquestions\u001b[0m\u001b[1;33m(\u001b[0m\u001b[1;33m)\u001b[0m\u001b[1;33m\u001b[0m\u001b[1;33m\u001b[0m\u001b[0m\n\u001b[1;32m----> 3\u001b[1;33m     \u001b[0minsertVariableIntoTable\u001b[0m\u001b[1;33m(\u001b[0m\u001b[0mrooms\u001b[0m\u001b[1;33m=\u001b[0m\u001b[0mrooms\u001b[0m\u001b[1;33m,\u001b[0m\u001b[0msize\u001b[0m\u001b[1;33m=\u001b[0m\u001b[0msize\u001b[0m\u001b[1;33m,\u001b[0m\u001b[0mpacked\u001b[0m\u001b[1;33m=\u001b[0m\u001b[0mpacked\u001b[0m\u001b[1;33m,\u001b[0m\u001b[0maccessible\u001b[0m\u001b[1;33m=\u001b[0m\u001b[0maccessible\u001b[0m\u001b[1;33m)\u001b[0m\u001b[1;33m\u001b[0m\u001b[1;33m\u001b[0m\u001b[0m\n\u001b[0m",
      "\u001b[1;31mNameError\u001b[0m: name 'rooms' is not defined"
     ]
    }
   ],
   "source": [
    "while(True):\n",
    "    q.questions()\n",
    "    insertVariableIntoTable(rooms=rooms,size=size,packed=packed,accessible=accessible)"
   ]
  },
  {
   "cell_type": "code",
   "execution_count": 13,
   "metadata": {},
   "outputs": [
    {
     "name": "stdout",
     "output_type": "stream",
     "text": [
      "Connected to sqlite\n",
      "Furniture data inserted into table\n",
      "The SQLite connection is closed\n"
     ]
    }
   ],
   "source": [
    "insertVariableIntoTable(1,'500-800',10,'no')"
   ]
  },
  {
   "cell_type": "code",
   "execution_count": null,
   "metadata": {},
   "outputs": [],
   "source": []
  }
 ],
 "metadata": {
  "kernelspec": {
   "display_name": "Python 3",
   "language": "python",
   "name": "python3"
  },
  "language_info": {
   "codemirror_mode": {
    "name": "ipython",
    "version": 3
   },
   "file_extension": ".py",
   "mimetype": "text/x-python",
   "name": "python",
   "nbconvert_exporter": "python",
   "pygments_lexer": "ipython3",
   "version": "3.7.6"
  }
 },
 "nbformat": 4,
 "nbformat_minor": 4
}
